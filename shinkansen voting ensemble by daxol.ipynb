{
 "cells": [
  {
   "cell_type": "markdown",
   "id": "6bfe0bbd",
   "metadata": {},
   "source": [
    "# **Predictive Analytics: Shinkansen Passenger Satisfaction**"
   ]
  },
  {
   "cell_type": "markdown",
   "id": "cc72fee5",
   "metadata": {},
   "source": [
    "## Data Preprocessing"
   ]
  },
  {
   "cell_type": "markdown",
   "id": "542dfab2",
   "metadata": {},
   "source": [
    "**1. Import necessary libraries**"
   ]
  },
  {
   "cell_type": "code",
   "execution_count": 1,
   "id": "2dea0df7",
   "metadata": {},
   "outputs": [],
   "source": [
    "import pandas as pd\n",
    "import numpy as np\n",
    "import regex as re\n",
    "import seaborn as sns\n",
    "import matplotlib.pyplot as plt\n",
    "from sklearn.impute import KNNImputer\n",
    "from sklearn.ensemble import RandomForestClassifier, VotingClassifier, ExtraTreesClassifier\n",
    "from sklearn import svm\n",
    "from xgboost import XGBClassifier\n",
    "from sklearn.preprocessing import PolynomialFeatures\n",
    "from sklearn.model_selection import train_test_split, cross_val_score\n",
    "from sklearn.metrics import accuracy_score, confusion_matrix, classification_report\n",
    "\n",
    "import warnings\n",
    "warnings.simplefilter(\"ignore\")"
   ]
  },
  {
   "cell_type": "markdown",
   "id": "4905039e",
   "metadata": {},
   "source": [
    "**2. Load the training and test data separately**"
   ]
  },
  {
   "cell_type": "code",
   "execution_count": 2,
   "id": "4a838a56",
   "metadata": {},
   "outputs": [],
   "source": [
    "#train data\n",
    "surveydata_train = pd.read_csv(\"Surveydata_train.csv\")\n",
    "traveldata_train = pd.read_csv(\"Traveldata_train.csv\")\n",
    "#test data\n",
    "surveydata_test = pd.read_csv(\"Surveydata_test.csv\")\n",
    "traveldata_test = pd.read_csv(\"Traveldata_test.csv\")"
   ]
  },
  {
   "cell_type": "markdown",
   "id": "4d366f5c",
   "metadata": {},
   "source": [
    "**3. Understand the data (check for each of the following in both the train and test dataset)**\n",
    "<ol>\n",
    "<li>Check a sample of the data</li>\n",
    "<li>Use the info() and describe() functions for more information</li>\n",
    "<li>Look for the presence of null values in the dataset</li>\n",
    "<li>Look for the presence of bad data or unwanted characters like \"$\" or \"#\" in the numerical columns</li>\n",
    "</ol>"
   ]
  },
  {
   "cell_type": "code",
   "execution_count": 3,
   "id": "650ebf61",
   "metadata": {},
   "outputs": [
    {
     "data": {
      "text/html": [
       "<div>\n",
       "<style scoped>\n",
       "    .dataframe tbody tr th:only-of-type {\n",
       "        vertical-align: middle;\n",
       "    }\n",
       "\n",
       "    .dataframe tbody tr th {\n",
       "        vertical-align: top;\n",
       "    }\n",
       "\n",
       "    .dataframe thead th {\n",
       "        text-align: right;\n",
       "    }\n",
       "</style>\n",
       "<table border=\"1\" class=\"dataframe\">\n",
       "  <thead>\n",
       "    <tr style=\"text-align: right;\">\n",
       "      <th></th>\n",
       "      <th>ID</th>\n",
       "      <th>Overall_Experience</th>\n",
       "      <th>Seat_Comfort</th>\n",
       "      <th>Seat_Class</th>\n",
       "      <th>Arrival_Time_Convenient</th>\n",
       "      <th>Catering</th>\n",
       "      <th>Platform_Location</th>\n",
       "      <th>Onboard_Wifi_Service</th>\n",
       "      <th>Onboard_Entertainment</th>\n",
       "      <th>Online_Support</th>\n",
       "      <th>Ease_of_Online_Booking</th>\n",
       "      <th>Onboard_Service</th>\n",
       "      <th>Legroom</th>\n",
       "      <th>Baggage_Handling</th>\n",
       "      <th>CheckIn_Service</th>\n",
       "      <th>Cleanliness</th>\n",
       "      <th>Online_Boarding</th>\n",
       "    </tr>\n",
       "  </thead>\n",
       "  <tbody>\n",
       "    <tr>\n",
       "      <th>33395</th>\n",
       "      <td>98833396</td>\n",
       "      <td>1</td>\n",
       "      <td>Poor</td>\n",
       "      <td>Ordinary</td>\n",
       "      <td>Poor</td>\n",
       "      <td>Poor</td>\n",
       "      <td>Inconvenient</td>\n",
       "      <td>Excellent</td>\n",
       "      <td>Good</td>\n",
       "      <td>Good</td>\n",
       "      <td>Good</td>\n",
       "      <td>Good</td>\n",
       "      <td>Good</td>\n",
       "      <td>Good</td>\n",
       "      <td>Good</td>\n",
       "      <td>Good</td>\n",
       "      <td>Good</td>\n",
       "    </tr>\n",
       "    <tr>\n",
       "      <th>74863</th>\n",
       "      <td>98874864</td>\n",
       "      <td>0</td>\n",
       "      <td>Poor</td>\n",
       "      <td>Green Car</td>\n",
       "      <td>Poor</td>\n",
       "      <td>Poor</td>\n",
       "      <td>Manageable</td>\n",
       "      <td>Good</td>\n",
       "      <td>Poor</td>\n",
       "      <td>Good</td>\n",
       "      <td>Good</td>\n",
       "      <td>Poor</td>\n",
       "      <td>Needs Improvement</td>\n",
       "      <td>Good</td>\n",
       "      <td>Poor</td>\n",
       "      <td>Acceptable</td>\n",
       "      <td>Good</td>\n",
       "    </tr>\n",
       "    <tr>\n",
       "      <th>52802</th>\n",
       "      <td>98852803</td>\n",
       "      <td>1</td>\n",
       "      <td>Poor</td>\n",
       "      <td>Green Car</td>\n",
       "      <td>NaN</td>\n",
       "      <td>Poor</td>\n",
       "      <td>Inconvenient</td>\n",
       "      <td>Good</td>\n",
       "      <td>Poor</td>\n",
       "      <td>Needs Improvement</td>\n",
       "      <td>Acceptable</td>\n",
       "      <td>Acceptable</td>\n",
       "      <td>Acceptable</td>\n",
       "      <td>Acceptable</td>\n",
       "      <td>Acceptable</td>\n",
       "      <td>Acceptable</td>\n",
       "      <td>Excellent</td>\n",
       "    </tr>\n",
       "    <tr>\n",
       "      <th>48220</th>\n",
       "      <td>98848221</td>\n",
       "      <td>1</td>\n",
       "      <td>Acceptable</td>\n",
       "      <td>Green Car</td>\n",
       "      <td>Acceptable</td>\n",
       "      <td>Acceptable</td>\n",
       "      <td>Manageable</td>\n",
       "      <td>Good</td>\n",
       "      <td>Good</td>\n",
       "      <td>Good</td>\n",
       "      <td>Needs Improvement</td>\n",
       "      <td>Needs Improvement</td>\n",
       "      <td>Acceptable</td>\n",
       "      <td>Needs Improvement</td>\n",
       "      <td>Acceptable</td>\n",
       "      <td>Needs Improvement</td>\n",
       "      <td>Acceptable</td>\n",
       "    </tr>\n",
       "    <tr>\n",
       "      <th>38485</th>\n",
       "      <td>98838486</td>\n",
       "      <td>1</td>\n",
       "      <td>Good</td>\n",
       "      <td>Green Car</td>\n",
       "      <td>Acceptable</td>\n",
       "      <td>Good</td>\n",
       "      <td>Convenient</td>\n",
       "      <td>Excellent</td>\n",
       "      <td>Good</td>\n",
       "      <td>Excellent</td>\n",
       "      <td>Excellent</td>\n",
       "      <td>Excellent</td>\n",
       "      <td>Excellent</td>\n",
       "      <td>Needs Improvement</td>\n",
       "      <td>Poor</td>\n",
       "      <td>Needs Improvement</td>\n",
       "      <td>Excellent</td>\n",
       "    </tr>\n",
       "  </tbody>\n",
       "</table>\n",
       "</div>"
      ],
      "text/plain": [
       "             ID  Overall_Experience Seat_Comfort Seat_Class   \n",
       "33395  98833396                   1         Poor   Ordinary  \\\n",
       "74863  98874864                   0         Poor  Green Car   \n",
       "52802  98852803                   1         Poor  Green Car   \n",
       "48220  98848221                   1   Acceptable  Green Car   \n",
       "38485  98838486                   1         Good  Green Car   \n",
       "\n",
       "      Arrival_Time_Convenient    Catering Platform_Location   \n",
       "33395                    Poor        Poor      Inconvenient  \\\n",
       "74863                    Poor        Poor        Manageable   \n",
       "52802                     NaN        Poor      Inconvenient   \n",
       "48220              Acceptable  Acceptable        Manageable   \n",
       "38485              Acceptable        Good        Convenient   \n",
       "\n",
       "      Onboard_Wifi_Service Onboard_Entertainment     Online_Support   \n",
       "33395            Excellent                  Good               Good  \\\n",
       "74863                 Good                  Poor               Good   \n",
       "52802                 Good                  Poor  Needs Improvement   \n",
       "48220                 Good                  Good               Good   \n",
       "38485            Excellent                  Good          Excellent   \n",
       "\n",
       "      Ease_of_Online_Booking    Onboard_Service            Legroom   \n",
       "33395                   Good               Good               Good  \\\n",
       "74863                   Good               Poor  Needs Improvement   \n",
       "52802             Acceptable         Acceptable         Acceptable   \n",
       "48220      Needs Improvement  Needs Improvement         Acceptable   \n",
       "38485              Excellent          Excellent          Excellent   \n",
       "\n",
       "        Baggage_Handling CheckIn_Service        Cleanliness Online_Boarding  \n",
       "33395               Good            Good               Good            Good  \n",
       "74863               Good            Poor         Acceptable            Good  \n",
       "52802         Acceptable      Acceptable         Acceptable       Excellent  \n",
       "48220  Needs Improvement      Acceptable  Needs Improvement      Acceptable  \n",
       "38485  Needs Improvement            Poor  Needs Improvement       Excellent  "
      ]
     },
     "execution_count": 3,
     "metadata": {},
     "output_type": "execute_result"
    }
   ],
   "source": [
    "#A. Check a sample of the data\n",
    "surveydata_train.sample(5)"
   ]
  },
  {
   "cell_type": "code",
   "execution_count": 4,
   "id": "ed36e8ba",
   "metadata": {},
   "outputs": [
    {
     "data": {
      "text/html": [
       "<div>\n",
       "<style scoped>\n",
       "    .dataframe tbody tr th:only-of-type {\n",
       "        vertical-align: middle;\n",
       "    }\n",
       "\n",
       "    .dataframe tbody tr th {\n",
       "        vertical-align: top;\n",
       "    }\n",
       "\n",
       "    .dataframe thead th {\n",
       "        text-align: right;\n",
       "    }\n",
       "</style>\n",
       "<table border=\"1\" class=\"dataframe\">\n",
       "  <thead>\n",
       "    <tr style=\"text-align: right;\">\n",
       "      <th></th>\n",
       "      <th>ID</th>\n",
       "      <th>Gender</th>\n",
       "      <th>Customer_Type</th>\n",
       "      <th>Age</th>\n",
       "      <th>Type_Travel</th>\n",
       "      <th>Travel_Class</th>\n",
       "      <th>Travel_Distance</th>\n",
       "      <th>Departure_Delay_in_Mins</th>\n",
       "      <th>Arrival_Delay_in_Mins</th>\n",
       "    </tr>\n",
       "  </thead>\n",
       "  <tbody>\n",
       "    <tr>\n",
       "      <th>116</th>\n",
       "      <td>98800117</td>\n",
       "      <td>Male</td>\n",
       "      <td>Loyal Customer</td>\n",
       "      <td>28.0</td>\n",
       "      <td>Business Travel</td>\n",
       "      <td>Business</td>\n",
       "      <td>2355</td>\n",
       "      <td>0.0</td>\n",
       "      <td>0.0</td>\n",
       "    </tr>\n",
       "    <tr>\n",
       "      <th>81217</th>\n",
       "      <td>98881218</td>\n",
       "      <td>Female</td>\n",
       "      <td>Loyal Customer</td>\n",
       "      <td>57.0</td>\n",
       "      <td>Personal Travel</td>\n",
       "      <td>Eco</td>\n",
       "      <td>1474</td>\n",
       "      <td>0.0</td>\n",
       "      <td>1.0</td>\n",
       "    </tr>\n",
       "    <tr>\n",
       "      <th>80215</th>\n",
       "      <td>98880216</td>\n",
       "      <td>Female</td>\n",
       "      <td>Loyal Customer</td>\n",
       "      <td>24.0</td>\n",
       "      <td>Personal Travel</td>\n",
       "      <td>Eco</td>\n",
       "      <td>2013</td>\n",
       "      <td>0.0</td>\n",
       "      <td>0.0</td>\n",
       "    </tr>\n",
       "    <tr>\n",
       "      <th>53043</th>\n",
       "      <td>98853044</td>\n",
       "      <td>Male</td>\n",
       "      <td>Loyal Customer</td>\n",
       "      <td>12.0</td>\n",
       "      <td>Personal Travel</td>\n",
       "      <td>Eco</td>\n",
       "      <td>2685</td>\n",
       "      <td>0.0</td>\n",
       "      <td>0.0</td>\n",
       "    </tr>\n",
       "    <tr>\n",
       "      <th>27615</th>\n",
       "      <td>98827616</td>\n",
       "      <td>Female</td>\n",
       "      <td>Loyal Customer</td>\n",
       "      <td>42.0</td>\n",
       "      <td>Business Travel</td>\n",
       "      <td>Business</td>\n",
       "      <td>1845</td>\n",
       "      <td>0.0</td>\n",
       "      <td>0.0</td>\n",
       "    </tr>\n",
       "  </tbody>\n",
       "</table>\n",
       "</div>"
      ],
      "text/plain": [
       "             ID  Gender   Customer_Type   Age      Type_Travel Travel_Class   \n",
       "116    98800117    Male  Loyal Customer  28.0  Business Travel     Business  \\\n",
       "81217  98881218  Female  Loyal Customer  57.0  Personal Travel          Eco   \n",
       "80215  98880216  Female  Loyal Customer  24.0  Personal Travel          Eco   \n",
       "53043  98853044    Male  Loyal Customer  12.0  Personal Travel          Eco   \n",
       "27615  98827616  Female  Loyal Customer  42.0  Business Travel     Business   \n",
       "\n",
       "       Travel_Distance  Departure_Delay_in_Mins  Arrival_Delay_in_Mins  \n",
       "116               2355                      0.0                    0.0  \n",
       "81217             1474                      0.0                    1.0  \n",
       "80215             2013                      0.0                    0.0  \n",
       "53043             2685                      0.0                    0.0  \n",
       "27615             1845                      0.0                    0.0  "
      ]
     },
     "execution_count": 4,
     "metadata": {},
     "output_type": "execute_result"
    }
   ],
   "source": [
    "#A. Check a sample of the data\n",
    "traveldata_train.sample(5)"
   ]
  },
  {
   "cell_type": "code",
   "execution_count": 5,
   "id": "89b5ff6c",
   "metadata": {},
   "outputs": [
    {
     "name": "stdout",
     "output_type": "stream",
     "text": [
      "<class 'pandas.core.frame.DataFrame'>\n",
      "RangeIndex: 94379 entries, 0 to 94378\n",
      "Data columns (total 17 columns):\n",
      " #   Column                   Non-Null Count  Dtype \n",
      "---  ------                   --------------  ----- \n",
      " 0   ID                       94379 non-null  int64 \n",
      " 1   Overall_Experience       94379 non-null  int64 \n",
      " 2   Seat_Comfort             94318 non-null  object\n",
      " 3   Seat_Class               94379 non-null  object\n",
      " 4   Arrival_Time_Convenient  85449 non-null  object\n",
      " 5   Catering                 85638 non-null  object\n",
      " 6   Platform_Location        94349 non-null  object\n",
      " 7   Onboard_Wifi_Service     94349 non-null  object\n",
      " 8   Onboard_Entertainment    94361 non-null  object\n",
      " 9   Online_Support           94288 non-null  object\n",
      " 10  Ease_of_Online_Booking   94306 non-null  object\n",
      " 11  Onboard_Service          86778 non-null  object\n",
      " 12  Legroom                  94289 non-null  object\n",
      " 13  Baggage_Handling         94237 non-null  object\n",
      " 14  CheckIn_Service          94302 non-null  object\n",
      " 15  Cleanliness              94373 non-null  object\n",
      " 16  Online_Boarding          94373 non-null  object\n",
      "dtypes: int64(2), object(15)\n",
      "memory usage: 12.2+ MB\n"
     ]
    },
    {
     "data": {
      "text/html": [
       "<div>\n",
       "<style scoped>\n",
       "    .dataframe tbody tr th:only-of-type {\n",
       "        vertical-align: middle;\n",
       "    }\n",
       "\n",
       "    .dataframe tbody tr th {\n",
       "        vertical-align: top;\n",
       "    }\n",
       "\n",
       "    .dataframe thead th {\n",
       "        text-align: right;\n",
       "    }\n",
       "</style>\n",
       "<table border=\"1\" class=\"dataframe\">\n",
       "  <thead>\n",
       "    <tr style=\"text-align: right;\">\n",
       "      <th></th>\n",
       "      <th>ID</th>\n",
       "      <th>Overall_Experience</th>\n",
       "    </tr>\n",
       "  </thead>\n",
       "  <tbody>\n",
       "    <tr>\n",
       "      <th>count</th>\n",
       "      <td>9.437900e+04</td>\n",
       "      <td>94379.000000</td>\n",
       "    </tr>\n",
       "    <tr>\n",
       "      <th>mean</th>\n",
       "      <td>9.884719e+07</td>\n",
       "      <td>0.546658</td>\n",
       "    </tr>\n",
       "    <tr>\n",
       "      <th>std</th>\n",
       "      <td>2.724501e+04</td>\n",
       "      <td>0.497821</td>\n",
       "    </tr>\n",
       "    <tr>\n",
       "      <th>min</th>\n",
       "      <td>9.880000e+07</td>\n",
       "      <td>0.000000</td>\n",
       "    </tr>\n",
       "    <tr>\n",
       "      <th>25%</th>\n",
       "      <td>9.882360e+07</td>\n",
       "      <td>0.000000</td>\n",
       "    </tr>\n",
       "    <tr>\n",
       "      <th>50%</th>\n",
       "      <td>9.884719e+07</td>\n",
       "      <td>1.000000</td>\n",
       "    </tr>\n",
       "    <tr>\n",
       "      <th>75%</th>\n",
       "      <td>9.887078e+07</td>\n",
       "      <td>1.000000</td>\n",
       "    </tr>\n",
       "    <tr>\n",
       "      <th>max</th>\n",
       "      <td>9.889438e+07</td>\n",
       "      <td>1.000000</td>\n",
       "    </tr>\n",
       "  </tbody>\n",
       "</table>\n",
       "</div>"
      ],
      "text/plain": [
       "                 ID  Overall_Experience\n",
       "count  9.437900e+04        94379.000000\n",
       "mean   9.884719e+07            0.546658\n",
       "std    2.724501e+04            0.497821\n",
       "min    9.880000e+07            0.000000\n",
       "25%    9.882360e+07            0.000000\n",
       "50%    9.884719e+07            1.000000\n",
       "75%    9.887078e+07            1.000000\n",
       "max    9.889438e+07            1.000000"
      ]
     },
     "execution_count": 5,
     "metadata": {},
     "output_type": "execute_result"
    }
   ],
   "source": [
    "#B. Use the info() and describe() functions for more information\n",
    "surveydata_train.info()\n",
    "surveydata_train.describe()"
   ]
  },
  {
   "cell_type": "code",
   "execution_count": 6,
   "id": "3ba624b1",
   "metadata": {},
   "outputs": [
    {
     "name": "stdout",
     "output_type": "stream",
     "text": [
      "<class 'pandas.core.frame.DataFrame'>\n",
      "RangeIndex: 94379 entries, 0 to 94378\n",
      "Data columns (total 9 columns):\n",
      " #   Column                   Non-Null Count  Dtype  \n",
      "---  ------                   --------------  -----  \n",
      " 0   ID                       94379 non-null  int64  \n",
      " 1   Gender                   94302 non-null  object \n",
      " 2   Customer_Type            85428 non-null  object \n",
      " 3   Age                      94346 non-null  float64\n",
      " 4   Type_Travel              85153 non-null  object \n",
      " 5   Travel_Class             94379 non-null  object \n",
      " 6   Travel_Distance          94379 non-null  int64  \n",
      " 7   Departure_Delay_in_Mins  94322 non-null  float64\n",
      " 8   Arrival_Delay_in_Mins    94022 non-null  float64\n",
      "dtypes: float64(3), int64(2), object(4)\n",
      "memory usage: 6.5+ MB\n"
     ]
    },
    {
     "data": {
      "text/html": [
       "<div>\n",
       "<style scoped>\n",
       "    .dataframe tbody tr th:only-of-type {\n",
       "        vertical-align: middle;\n",
       "    }\n",
       "\n",
       "    .dataframe tbody tr th {\n",
       "        vertical-align: top;\n",
       "    }\n",
       "\n",
       "    .dataframe thead th {\n",
       "        text-align: right;\n",
       "    }\n",
       "</style>\n",
       "<table border=\"1\" class=\"dataframe\">\n",
       "  <thead>\n",
       "    <tr style=\"text-align: right;\">\n",
       "      <th></th>\n",
       "      <th>ID</th>\n",
       "      <th>Age</th>\n",
       "      <th>Travel_Distance</th>\n",
       "      <th>Departure_Delay_in_Mins</th>\n",
       "      <th>Arrival_Delay_in_Mins</th>\n",
       "    </tr>\n",
       "  </thead>\n",
       "  <tbody>\n",
       "    <tr>\n",
       "      <th>count</th>\n",
       "      <td>9.437900e+04</td>\n",
       "      <td>94346.000000</td>\n",
       "      <td>94379.000000</td>\n",
       "      <td>94322.000000</td>\n",
       "      <td>94022.000000</td>\n",
       "    </tr>\n",
       "    <tr>\n",
       "      <th>mean</th>\n",
       "      <td>9.884719e+07</td>\n",
       "      <td>39.419647</td>\n",
       "      <td>1978.888185</td>\n",
       "      <td>14.647092</td>\n",
       "      <td>15.005222</td>\n",
       "    </tr>\n",
       "    <tr>\n",
       "      <th>std</th>\n",
       "      <td>2.724501e+04</td>\n",
       "      <td>15.116632</td>\n",
       "      <td>1027.961019</td>\n",
       "      <td>38.138781</td>\n",
       "      <td>38.439409</td>\n",
       "    </tr>\n",
       "    <tr>\n",
       "      <th>min</th>\n",
       "      <td>9.880000e+07</td>\n",
       "      <td>7.000000</td>\n",
       "      <td>50.000000</td>\n",
       "      <td>0.000000</td>\n",
       "      <td>0.000000</td>\n",
       "    </tr>\n",
       "    <tr>\n",
       "      <th>25%</th>\n",
       "      <td>9.882360e+07</td>\n",
       "      <td>27.000000</td>\n",
       "      <td>1359.000000</td>\n",
       "      <td>0.000000</td>\n",
       "      <td>0.000000</td>\n",
       "    </tr>\n",
       "    <tr>\n",
       "      <th>50%</th>\n",
       "      <td>9.884719e+07</td>\n",
       "      <td>40.000000</td>\n",
       "      <td>1923.000000</td>\n",
       "      <td>0.000000</td>\n",
       "      <td>0.000000</td>\n",
       "    </tr>\n",
       "    <tr>\n",
       "      <th>75%</th>\n",
       "      <td>9.887078e+07</td>\n",
       "      <td>51.000000</td>\n",
       "      <td>2538.000000</td>\n",
       "      <td>12.000000</td>\n",
       "      <td>13.000000</td>\n",
       "    </tr>\n",
       "    <tr>\n",
       "      <th>max</th>\n",
       "      <td>9.889438e+07</td>\n",
       "      <td>85.000000</td>\n",
       "      <td>6951.000000</td>\n",
       "      <td>1592.000000</td>\n",
       "      <td>1584.000000</td>\n",
       "    </tr>\n",
       "  </tbody>\n",
       "</table>\n",
       "</div>"
      ],
      "text/plain": [
       "                 ID           Age  Travel_Distance  Departure_Delay_in_Mins   \n",
       "count  9.437900e+04  94346.000000     94379.000000             94322.000000  \\\n",
       "mean   9.884719e+07     39.419647      1978.888185                14.647092   \n",
       "std    2.724501e+04     15.116632      1027.961019                38.138781   \n",
       "min    9.880000e+07      7.000000        50.000000                 0.000000   \n",
       "25%    9.882360e+07     27.000000      1359.000000                 0.000000   \n",
       "50%    9.884719e+07     40.000000      1923.000000                 0.000000   \n",
       "75%    9.887078e+07     51.000000      2538.000000                12.000000   \n",
       "max    9.889438e+07     85.000000      6951.000000              1592.000000   \n",
       "\n",
       "       Arrival_Delay_in_Mins  \n",
       "count           94022.000000  \n",
       "mean               15.005222  \n",
       "std                38.439409  \n",
       "min                 0.000000  \n",
       "25%                 0.000000  \n",
       "50%                 0.000000  \n",
       "75%                13.000000  \n",
       "max              1584.000000  "
      ]
     },
     "execution_count": 6,
     "metadata": {},
     "output_type": "execute_result"
    }
   ],
   "source": [
    "#B. Use the info() and describe() functions for more information\n",
    "traveldata_train.info()\n",
    "traveldata_train.describe()"
   ]
  },
  {
   "cell_type": "code",
   "execution_count": 7,
   "id": "59fb1371",
   "metadata": {},
   "outputs": [
    {
     "data": {
      "text/plain": [
       "True"
      ]
     },
     "execution_count": 7,
     "metadata": {},
     "output_type": "execute_result"
    }
   ],
   "source": [
    "#C. Look for the presence of null values in the dataset\n",
    "surveydata_train.isnull().values.any()"
   ]
  },
  {
   "cell_type": "code",
   "execution_count": 8,
   "id": "14a2b28f",
   "metadata": {},
   "outputs": [
    {
     "data": {
      "text/plain": [
       "True"
      ]
     },
     "execution_count": 8,
     "metadata": {},
     "output_type": "execute_result"
    }
   ],
   "source": [
    "#C. Look for the presence of null values in the dataset\n",
    "traveldata_train.isnull().values.any()"
   ]
  },
  {
   "cell_type": "code",
   "execution_count": 9,
   "id": "50c30f6c",
   "metadata": {},
   "outputs": [
    {
     "data": {
      "text/plain": [
       "True"
      ]
     },
     "execution_count": 9,
     "metadata": {},
     "output_type": "execute_result"
    }
   ],
   "source": [
    "#D. Look for the presence of bad data or unwanted characters like \"$\" or \"#\" in the numerical columns\n",
    "surveydata_train.describe().columns.astype(str).str.contains(\"($|#)\").any()"
   ]
  },
  {
   "cell_type": "code",
   "execution_count": 10,
   "id": "cb0a17ca",
   "metadata": {},
   "outputs": [
    {
     "data": {
      "text/plain": [
       "True"
      ]
     },
     "execution_count": 10,
     "metadata": {},
     "output_type": "execute_result"
    }
   ],
   "source": [
    "#D. Look for the presence of bad data or unwanted characters like \"$\" or \"#\" in the numerical columns\n",
    "traveldata_train.describe().columns.astype(str).str.contains(\"($|#)\").any()"
   ]
  },
  {
   "cell_type": "markdown",
   "id": "50fba3f4",
   "metadata": {},
   "source": [
    "**4. Clean the data**\n",
    "<ol>\n",
    "<li>Treat for missing values in both the train & test set</li>\n",
    "<li>Remove bad data values in both the train & test set</li>\n",
    "<li>Encode the categorical object variables in both the train & test set</li>\n",
    "<li>Perform Feature Engineering if necessary</li>\n",
    "<li>Scale/Normalize the dataset if necessary</li>\n",
    "</ol>"
   ]
  },
  {
   "cell_type": "code",
   "execution_count": 11,
   "id": "88a308ed",
   "metadata": {},
   "outputs": [],
   "source": [
    "def dataframe_cleaning(df):\n",
    "    # Before cleaning any data, it is important to transform Categorical values to numerical values\n",
    "    # Retrieve categorical columns, which have data type as \"object\"\n",
    "    df_object_columns = df.select_dtypes(include=['object']).columns\n",
    "    # One-hot encoding for categorical variables\n",
    "    df_encoded = pd.get_dummies(df, columns=df_object_columns)#, dummy_na=True)\n",
    "    #A. Treat for missing values in both the train & test set\n",
    "    imputer = KNNImputer(n_neighbors=15)\n",
    "    #np array is created\n",
    "    df_imputed = imputer.fit_transform(df_encoded)\n",
    "    #back to dataframe\n",
    "    df_without_nans = pd.DataFrame(data=df_imputed, columns=df_encoded.columns)\n",
    "    \n",
    "    return df_without_nans"
   ]
  },
  {
   "cell_type": "code",
   "execution_count": 12,
   "id": "1be58d8b",
   "metadata": {},
   "outputs": [],
   "source": [
    "#train data\n",
    "surveydata_train_clean = dataframe_cleaning(surveydata_train)\n",
    "traveldata_train_clean = dataframe_cleaning(traveldata_train)\n",
    "#test data\n",
    "surveydata_test_clean = dataframe_cleaning(surveydata_test)\n",
    "traveldata_test_clean = dataframe_cleaning(traveldata_test)"
   ]
  },
  {
   "cell_type": "code",
   "execution_count": 13,
   "id": "52753daa",
   "metadata": {},
   "outputs": [],
   "source": [
    "#if a column is not present on the test set, then it is not important in the train set. Sans the target variable \"Overall_Experience\"\n",
    "def shape_equalizer(df1, df2):\n",
    "    \"\"\"train, then test\"\"\"\n",
    "    df1_columns = df1.columns\n",
    "    df2_columns = df2.columns\n",
    "    difference = list(set(df1_columns).difference(set(df2_columns)))\n",
    "    if \"Overall_Experience\" in difference:\n",
    "        difference.pop(difference.index(\"Overall_Experience\"))\n",
    "    df1 = df1.drop(difference, axis=1)\n",
    "    return df1, df2"
   ]
  },
  {
   "cell_type": "code",
   "execution_count": 14,
   "id": "994fbb00",
   "metadata": {},
   "outputs": [],
   "source": [
    "#survey data\n",
    "surveydata_train_equalized, surveydata_test_equalized = shape_equalizer(surveydata_train_clean, surveydata_test_clean)\n",
    "#travel data\n",
    "traveldata_train_equalized, traveldata_test_equalized = shape_equalizer(traveldata_train_clean, traveldata_test_clean)"
   ]
  },
  {
   "cell_type": "code",
   "execution_count": 15,
   "id": "8a83d212",
   "metadata": {},
   "outputs": [
    {
     "name": "stdout",
     "output_type": "stream",
     "text": [
      "Same number of rows between survey and travel data sets.\n"
     ]
    }
   ],
   "source": [
    "if surveydata_train_equalized.shape[0] == traveldata_train_equalized.shape[0] and surveydata_test_equalized.shape[0] == traveldata_test_equalized.shape[0]:\n",
    "    print(\"Same number of rows between survey and travel data sets.\")"
   ]
  },
  {
   "cell_type": "code",
   "execution_count": 16,
   "id": "6b7f2f4d",
   "metadata": {},
   "outputs": [
    {
     "name": "stdout",
     "output_type": "stream",
     "text": [
      "Same number of columns between test and train data sets.\n"
     ]
    }
   ],
   "source": [
    "# -1 due to target column \"Overall_Experience\"\n",
    "if surveydata_train_equalized.shape[1]-1 == surveydata_test_equalized.shape[1] and traveldata_train_equalized.shape[1] == traveldata_test_equalized.shape[1]:\n",
    "    print(\"Same number of columns between test and train data sets.\")"
   ]
  },
  {
   "cell_type": "code",
   "execution_count": 17,
   "id": "7e5cfd44",
   "metadata": {},
   "outputs": [],
   "source": [
    "#last, join the two datasets for train and the two datasets for test\n",
    "#train\n",
    "train_data = traveldata_train_equalized.merge(surveydata_train_equalized, on='ID')\n",
    "#test\n",
    "test_data = traveldata_test_equalized.merge(surveydata_test_equalized, on='ID')"
   ]
  },
  {
   "cell_type": "markdown",
   "id": "33deaf25",
   "metadata": {},
   "source": [
    "## try some feature engineering"
   ]
  },
  {
   "cell_type": "code",
   "execution_count": 18,
   "id": "5536d369",
   "metadata": {},
   "outputs": [],
   "source": [
    "def feature_eng(df):\n",
    "    df['Delay_per_Distance'] = df['Departure_Delay_in_Mins'] / df['Travel_Distance']\n",
    "    poly = PolynomialFeatures(degree=2, include_bias=False)\n",
    "    df_poly = poly.fit_transform(df[['Age', 'Travel_Distance']])\n",
    "    return df"
   ]
  },
  {
   "cell_type": "markdown",
   "id": "070885f5",
   "metadata": {},
   "source": [
    "## Model Building"
   ]
  },
  {
   "cell_type": "code",
   "execution_count": 54,
   "id": "375d2af3",
   "metadata": {},
   "outputs": [],
   "source": [
    "rfc = RandomForestClassifier(bootstrap= False,\n",
    "                             ccp_alpha= 0.0,\n",
    "                             class_weight= None,\n",
    "                             criterion= 'gini',\n",
    "                             max_depth= None,\n",
    "                             max_features= 'auto',\n",
    "                             max_leaf_nodes= None,\n",
    "                             max_samples= None,\n",
    "                             min_impurity_decrease= 0.0,\n",
    "                             min_samples_leaf= 1,\n",
    "                             min_samples_split= 2,\n",
    "                             min_weight_fraction_leaf= 0.0,\n",
    "                             n_estimators= 2500,\n",
    "                             n_jobs= -1,\n",
    "                             oob_score= False,\n",
    "                             random_state= 42,\n",
    "                             verbose= 0,\n",
    "                             warm_start= False)"
   ]
  },
  {
   "cell_type": "code",
   "execution_count": 55,
   "id": "c0276380",
   "metadata": {},
   "outputs": [],
   "source": [
    "xgb = XGBClassifier(objective= 'binary:logistic',\n",
    "                    use_label_encoder= None,\n",
    "                    base_score= None,\n",
    "                    booster= None,\n",
    "                    callbacks= None,\n",
    "                    colsample_bylevel= None,\n",
    "                    colsample_bynode= None,\n",
    "                    colsample_bytree= 0.5,\n",
    "                    early_stopping_rounds= None,\n",
    "                    enable_categorical= False,\n",
    "                    eval_metric= None,\n",
    "                    feature_types= None,\n",
    "                    gamma= 0.25,\n",
    "                    gpu_id= None,\n",
    "                    grow_policy= None,\n",
    "                    importance_type= None,\n",
    "                    interaction_constraints= None,\n",
    "                    learning_rate= 0.09999999999999999,\n",
    "                    max_bin= None,\n",
    "                    max_cat_threshold= None,\n",
    "                    max_cat_to_onehot= None,\n",
    "                    max_delta_step= None,\n",
    "                    max_depth= 15,\n",
    "                    max_leaves= None,\n",
    "                    min_child_weight= 2,\n",
    "                    monotone_constraints= None,\n",
    "                    n_estimators= 2000,\n",
    "                    n_jobs= -1,\n",
    "                    num_parallel_tree= None,\n",
    "                    predictor= None,\n",
    "                    random_state= 42,\n",
    "                    reg_alpha= 0.1,\n",
    "                    reg_lambda= 0.2,\n",
    "                    sampling_method= None,\n",
    "                    scale_pos_weight= None,\n",
    "                    subsample= 0.9,\n",
    "                    tree_method= None,\n",
    "                    validate_parameters= None,\n",
    "                    verbosity= None)"
   ]
  },
  {
   "cell_type": "code",
   "execution_count": 56,
   "id": "4eb8064f",
   "metadata": {},
   "outputs": [],
   "source": [
    "ext = ExtraTreesClassifier(bootstrap= False,\n",
    "                           ccp_alpha= 0.0,\n",
    "                           class_weight= None,\n",
    "                           criterion= 'entropy',\n",
    "                           max_depth= None,\n",
    "                           max_features= 'auto',\n",
    "                           max_leaf_nodes= None,\n",
    "                           max_samples= None,\n",
    "                           min_impurity_decrease= 0.0,\n",
    "                           min_samples_leaf= 1,\n",
    "                           min_samples_split= 2,\n",
    "                           min_weight_fraction_leaf= 0.0,\n",
    "                           n_estimators= 2500,\n",
    "                           n_jobs= -1,\n",
    "                           oob_score= False,\n",
    "                           random_state= 42,\n",
    "                           verbose= 0,\n",
    "                           warm_start= False)"
   ]
  },
  {
   "cell_type": "code",
   "execution_count": 57,
   "id": "84d3ebe2",
   "metadata": {},
   "outputs": [],
   "source": [
    "# save function for all\n",
    "def results_to_csv(y_pred, var_name):\n",
    "    data = test_data.copy()\n",
    "    data['Overall_Experience'] = y_pred\n",
    "    result = data[['ID', 'Overall_Experience']]\n",
    "    #to integers\n",
    "    result[['ID', 'Overall_Experience']] = result[['ID', 'Overall_Experience']].astype(int)\n",
    "    #print head\n",
    "    print(result.head(5))\n",
    "    #save as csv\n",
    "    name = \"_\".join(var_name.split('_')[-2:]) + '_result.csv'\n",
    "    return result.to_csv(name, index=False)"
   ]
  },
  {
   "cell_type": "markdown",
   "id": "0df6c419",
   "metadata": {},
   "source": [
    "#### something"
   ]
  },
  {
   "cell_type": "code",
   "execution_count": 68,
   "id": "13aa2e51",
   "metadata": {},
   "outputs": [],
   "source": [
    "from sklearn.preprocessing import StandardScaler\n",
    "from sklearn.pipeline import make_pipeline\n",
    "\n",
    "# Standardize the features to have mean=0 and variance=1\n",
    "scaler = StandardScaler()\n",
    "\n",
    "# Create pipelines\n",
    "#svm_pipeline = make_pipeline(scaler, svm)\n",
    "rfc_pipeline = make_pipeline(scaler, rfc)\n",
    "xgb_pipeline = make_pipeline(scaler, xgb)\n",
    "ext_pipeline = make_pipeline(scaler, ext)\n",
    "\n",
    "# Stacking\n",
    "from sklearn.ensemble import StackingClassifier\n",
    "from sklearn.linear_model import LogisticRegression\n",
    "\n",
    "base_models = list()\n",
    "base_models.append(('rfc', RandomForestClassifier()))\n",
    "base_models.append(('xgb', XGBClassifier()))\n",
    "base_models.append(('ext', ExtraTreesClassifier()))\n",
    "\n",
    "meta_learner = LogisticRegression()\n",
    "\n",
    "stacked_model = StackingClassifier(estimators=base_models, final_estimator=meta_learner, cv=5)\n",
    "\n",
    "\n",
    "\n",
    "# Define the ensemble model\n",
    "ensemble = VotingClassifier(estimators=[('Random Forest', rfc_pipeline),\n",
    "                                        ('XGBoost', xgb_pipeline),\n",
    "                                        ('ExtraTree', ext_pipeline),\n",
    "                                        ('Stacked',stacked_model)], voting='soft')\n"
   ]
  },
  {
   "cell_type": "markdown",
   "id": "13654bba",
   "metadata": {},
   "source": [
    "#### model"
   ]
  },
  {
   "cell_type": "code",
   "execution_count": 69,
   "id": "85fb48de",
   "metadata": {},
   "outputs": [],
   "source": [
    "train_data = feature_eng(train_data)\n",
    "test_data = feature_eng(test_data)"
   ]
  },
  {
   "cell_type": "code",
   "execution_count": 70,
   "id": "1f99ec6a",
   "metadata": {},
   "outputs": [],
   "source": [
    "# train, test, split for all\n",
    "X = train_data.drop('Overall_Experience', axis=1)\n",
    "y = train_data['Overall_Experience']\n",
    "\n",
    "X_train, X_val, y_train, y_val = train_test_split(X, y, test_size=0.2, random_state=42)"
   ]
  },
  {
   "cell_type": "code",
   "execution_count": 71,
   "id": "5a851f96",
   "metadata": {},
   "outputs": [
    {
     "data": {
      "text/html": [
       "<style>#sk-container-id-4 {color: black;background-color: white;}#sk-container-id-4 pre{padding: 0;}#sk-container-id-4 div.sk-toggleable {background-color: white;}#sk-container-id-4 label.sk-toggleable__label {cursor: pointer;display: block;width: 100%;margin-bottom: 0;padding: 0.3em;box-sizing: border-box;text-align: center;}#sk-container-id-4 label.sk-toggleable__label-arrow:before {content: \"▸\";float: left;margin-right: 0.25em;color: #696969;}#sk-container-id-4 label.sk-toggleable__label-arrow:hover:before {color: black;}#sk-container-id-4 div.sk-estimator:hover label.sk-toggleable__label-arrow:before {color: black;}#sk-container-id-4 div.sk-toggleable__content {max-height: 0;max-width: 0;overflow: hidden;text-align: left;background-color: #f0f8ff;}#sk-container-id-4 div.sk-toggleable__content pre {margin: 0.2em;color: black;border-radius: 0.25em;background-color: #f0f8ff;}#sk-container-id-4 input.sk-toggleable__control:checked~div.sk-toggleable__content {max-height: 200px;max-width: 100%;overflow: auto;}#sk-container-id-4 input.sk-toggleable__control:checked~label.sk-toggleable__label-arrow:before {content: \"▾\";}#sk-container-id-4 div.sk-estimator input.sk-toggleable__control:checked~label.sk-toggleable__label {background-color: #d4ebff;}#sk-container-id-4 div.sk-label input.sk-toggleable__control:checked~label.sk-toggleable__label {background-color: #d4ebff;}#sk-container-id-4 input.sk-hidden--visually {border: 0;clip: rect(1px 1px 1px 1px);clip: rect(1px, 1px, 1px, 1px);height: 1px;margin: -1px;overflow: hidden;padding: 0;position: absolute;width: 1px;}#sk-container-id-4 div.sk-estimator {font-family: monospace;background-color: #f0f8ff;border: 1px dotted black;border-radius: 0.25em;box-sizing: border-box;margin-bottom: 0.5em;}#sk-container-id-4 div.sk-estimator:hover {background-color: #d4ebff;}#sk-container-id-4 div.sk-parallel-item::after {content: \"\";width: 100%;border-bottom: 1px solid gray;flex-grow: 1;}#sk-container-id-4 div.sk-label:hover label.sk-toggleable__label {background-color: #d4ebff;}#sk-container-id-4 div.sk-serial::before {content: \"\";position: absolute;border-left: 1px solid gray;box-sizing: border-box;top: 0;bottom: 0;left: 50%;z-index: 0;}#sk-container-id-4 div.sk-serial {display: flex;flex-direction: column;align-items: center;background-color: white;padding-right: 0.2em;padding-left: 0.2em;position: relative;}#sk-container-id-4 div.sk-item {position: relative;z-index: 1;}#sk-container-id-4 div.sk-parallel {display: flex;align-items: stretch;justify-content: center;background-color: white;position: relative;}#sk-container-id-4 div.sk-item::before, #sk-container-id-4 div.sk-parallel-item::before {content: \"\";position: absolute;border-left: 1px solid gray;box-sizing: border-box;top: 0;bottom: 0;left: 50%;z-index: -1;}#sk-container-id-4 div.sk-parallel-item {display: flex;flex-direction: column;z-index: 1;position: relative;background-color: white;}#sk-container-id-4 div.sk-parallel-item:first-child::after {align-self: flex-end;width: 50%;}#sk-container-id-4 div.sk-parallel-item:last-child::after {align-self: flex-start;width: 50%;}#sk-container-id-4 div.sk-parallel-item:only-child::after {width: 0;}#sk-container-id-4 div.sk-dashed-wrapped {border: 1px dashed gray;margin: 0 0.4em 0.5em 0.4em;box-sizing: border-box;padding-bottom: 0.4em;background-color: white;}#sk-container-id-4 div.sk-label label {font-family: monospace;font-weight: bold;display: inline-block;line-height: 1.2em;}#sk-container-id-4 div.sk-label-container {text-align: center;}#sk-container-id-4 div.sk-container {/* jupyter's `normalize.less` sets `[hidden] { display: none; }` but bootstrap.min.css set `[hidden] { display: none !important; }` so we also need the `!important` here to be able to override the default hidden behavior on the sphinx rendered scikit-learn.org. See: https://github.com/scikit-learn/scikit-learn/issues/21755 */display: inline-block !important;position: relative;}#sk-container-id-4 div.sk-text-repr-fallback {display: none;}</style><div id=\"sk-container-id-4\" class=\"sk-top-container\"><div class=\"sk-text-repr-fallback\"><pre>VotingClassifier(estimators=[(&#x27;Random Forest&#x27;,\n",
       "                              Pipeline(steps=[(&#x27;standardscaler&#x27;,\n",
       "                                               StandardScaler()),\n",
       "                                              (&#x27;randomforestclassifier&#x27;,\n",
       "                                               RandomForestClassifier(bootstrap=False,\n",
       "                                                                      max_features=&#x27;auto&#x27;,\n",
       "                                                                      n_estimators=2500,\n",
       "                                                                      n_jobs=-1,\n",
       "                                                                      random_state=42))])),\n",
       "                             (&#x27;XGBoost&#x27;,\n",
       "                              Pipeline(steps=[(&#x27;standardscaler&#x27;,\n",
       "                                               StandardScaler()),\n",
       "                                              (&#x27;xgbclassifier&#x27;,\n",
       "                                               XGBClassifier(base_score=None,\n",
       "                                                             booster=N...\n",
       "                                                                            learning_rate=None,\n",
       "                                                                            max_bin=None,\n",
       "                                                                            max_cat_threshold=None,\n",
       "                                                                            max_cat_to_onehot=None,\n",
       "                                                                            max_delta_step=None,\n",
       "                                                                            max_depth=None,\n",
       "                                                                            max_leaves=None,\n",
       "                                                                            min_child_weight=None,\n",
       "                                                                            missing=nan,\n",
       "                                                                            monotone_constraints=None,\n",
       "                                                                            n_estimators=100,\n",
       "                                                                            n_jobs=None,\n",
       "                                                                            num_parallel_tree=None,\n",
       "                                                                            predictor=None,\n",
       "                                                                            random_state=None, ...)),\n",
       "                                                             (&#x27;ext&#x27;,\n",
       "                                                              ExtraTreesClassifier())],\n",
       "                                                 final_estimator=LogisticRegression()))],\n",
       "                 voting=&#x27;soft&#x27;)</pre><b>In a Jupyter environment, please rerun this cell to show the HTML representation or trust the notebook. <br />On GitHub, the HTML representation is unable to render, please try loading this page with nbviewer.org.</b></div><div class=\"sk-container\" hidden><div class=\"sk-item sk-dashed-wrapped\"><div class=\"sk-label-container\"><div class=\"sk-label sk-toggleable\"><input class=\"sk-toggleable__control sk-hidden--visually\" id=\"sk-estimator-id-20\" type=\"checkbox\" ><label for=\"sk-estimator-id-20\" class=\"sk-toggleable__label sk-toggleable__label-arrow\">VotingClassifier</label><div class=\"sk-toggleable__content\"><pre>VotingClassifier(estimators=[(&#x27;Random Forest&#x27;,\n",
       "                              Pipeline(steps=[(&#x27;standardscaler&#x27;,\n",
       "                                               StandardScaler()),\n",
       "                                              (&#x27;randomforestclassifier&#x27;,\n",
       "                                               RandomForestClassifier(bootstrap=False,\n",
       "                                                                      max_features=&#x27;auto&#x27;,\n",
       "                                                                      n_estimators=2500,\n",
       "                                                                      n_jobs=-1,\n",
       "                                                                      random_state=42))])),\n",
       "                             (&#x27;XGBoost&#x27;,\n",
       "                              Pipeline(steps=[(&#x27;standardscaler&#x27;,\n",
       "                                               StandardScaler()),\n",
       "                                              (&#x27;xgbclassifier&#x27;,\n",
       "                                               XGBClassifier(base_score=None,\n",
       "                                                             booster=N...\n",
       "                                                                            learning_rate=None,\n",
       "                                                                            max_bin=None,\n",
       "                                                                            max_cat_threshold=None,\n",
       "                                                                            max_cat_to_onehot=None,\n",
       "                                                                            max_delta_step=None,\n",
       "                                                                            max_depth=None,\n",
       "                                                                            max_leaves=None,\n",
       "                                                                            min_child_weight=None,\n",
       "                                                                            missing=nan,\n",
       "                                                                            monotone_constraints=None,\n",
       "                                                                            n_estimators=100,\n",
       "                                                                            n_jobs=None,\n",
       "                                                                            num_parallel_tree=None,\n",
       "                                                                            predictor=None,\n",
       "                                                                            random_state=None, ...)),\n",
       "                                                             (&#x27;ext&#x27;,\n",
       "                                                              ExtraTreesClassifier())],\n",
       "                                                 final_estimator=LogisticRegression()))],\n",
       "                 voting=&#x27;soft&#x27;)</pre></div></div></div><div class=\"sk-parallel\"><div class=\"sk-parallel-item\"><div class=\"sk-item\"><div class=\"sk-label-container\"><div class=\"sk-label sk-toggleable\"><label>Random Forest</label></div></div><div class=\"sk-serial\"><div class=\"sk-item\"><div class=\"sk-serial\"><div class=\"sk-item\"><div class=\"sk-estimator sk-toggleable\"><input class=\"sk-toggleable__control sk-hidden--visually\" id=\"sk-estimator-id-21\" type=\"checkbox\" ><label for=\"sk-estimator-id-21\" class=\"sk-toggleable__label sk-toggleable__label-arrow\">StandardScaler</label><div class=\"sk-toggleable__content\"><pre>StandardScaler()</pre></div></div></div><div class=\"sk-item\"><div class=\"sk-estimator sk-toggleable\"><input class=\"sk-toggleable__control sk-hidden--visually\" id=\"sk-estimator-id-22\" type=\"checkbox\" ><label for=\"sk-estimator-id-22\" class=\"sk-toggleable__label sk-toggleable__label-arrow\">RandomForestClassifier</label><div class=\"sk-toggleable__content\"><pre>RandomForestClassifier(bootstrap=False, max_features=&#x27;auto&#x27;, n_estimators=2500,\n",
       "                       n_jobs=-1, random_state=42)</pre></div></div></div></div></div></div></div></div><div class=\"sk-parallel-item\"><div class=\"sk-item\"><div class=\"sk-label-container\"><div class=\"sk-label sk-toggleable\"><label>XGBoost</label></div></div><div class=\"sk-serial\"><div class=\"sk-item\"><div class=\"sk-serial\"><div class=\"sk-item\"><div class=\"sk-estimator sk-toggleable\"><input class=\"sk-toggleable__control sk-hidden--visually\" id=\"sk-estimator-id-23\" type=\"checkbox\" ><label for=\"sk-estimator-id-23\" class=\"sk-toggleable__label sk-toggleable__label-arrow\">StandardScaler</label><div class=\"sk-toggleable__content\"><pre>StandardScaler()</pre></div></div></div><div class=\"sk-item\"><div class=\"sk-estimator sk-toggleable\"><input class=\"sk-toggleable__control sk-hidden--visually\" id=\"sk-estimator-id-24\" type=\"checkbox\" ><label for=\"sk-estimator-id-24\" class=\"sk-toggleable__label sk-toggleable__label-arrow\">XGBClassifier</label><div class=\"sk-toggleable__content\"><pre>XGBClassifier(base_score=None, booster=None, callbacks=None,\n",
       "              colsample_bylevel=None, colsample_bynode=None,\n",
       "              colsample_bytree=0.5, early_stopping_rounds=None,\n",
       "              enable_categorical=False, eval_metric=None, feature_types=None,\n",
       "              gamma=0.25, gpu_id=None, grow_policy=None, importance_type=None,\n",
       "              interaction_constraints=None, learning_rate=0.09999999999999999,\n",
       "              max_bin=None, max_cat_threshold=None, max_cat_to_onehot=None,\n",
       "              max_delta_step=None, max_depth=15, max_leaves=None,\n",
       "              min_child_weight=2, missing=nan, monotone_constraints=None,\n",
       "              n_estimators=2000, n_jobs=-1, num_parallel_tree=None,\n",
       "              predictor=None, random_state=42, ...)</pre></div></div></div></div></div></div></div></div><div class=\"sk-parallel-item\"><div class=\"sk-item\"><div class=\"sk-label-container\"><div class=\"sk-label sk-toggleable\"><label>ExtraTree</label></div></div><div class=\"sk-serial\"><div class=\"sk-item\"><div class=\"sk-serial\"><div class=\"sk-item\"><div class=\"sk-estimator sk-toggleable\"><input class=\"sk-toggleable__control sk-hidden--visually\" id=\"sk-estimator-id-25\" type=\"checkbox\" ><label for=\"sk-estimator-id-25\" class=\"sk-toggleable__label sk-toggleable__label-arrow\">StandardScaler</label><div class=\"sk-toggleable__content\"><pre>StandardScaler()</pre></div></div></div><div class=\"sk-item\"><div class=\"sk-estimator sk-toggleable\"><input class=\"sk-toggleable__control sk-hidden--visually\" id=\"sk-estimator-id-26\" type=\"checkbox\" ><label for=\"sk-estimator-id-26\" class=\"sk-toggleable__label sk-toggleable__label-arrow\">ExtraTreesClassifier</label><div class=\"sk-toggleable__content\"><pre>ExtraTreesClassifier(criterion=&#x27;entropy&#x27;, max_features=&#x27;auto&#x27;,\n",
       "                     n_estimators=2500, n_jobs=-1, random_state=42)</pre></div></div></div></div></div></div></div></div><div class=\"sk-parallel-item\"><div class=\"sk-item\"><div class=\"sk-label-container\"><div class=\"sk-label sk-toggleable\"><label>Stacked</label></div></div><div class=\"sk-serial\"><div class=\"sk-item\"><div class=\"sk-serial\"><div class=\"sk-item\"><div class=\"sk-parallel\"><div class=\"sk-parallel-item\"><div class=\"sk-item\"><div class=\"sk-label-container\"><div class=\"sk-label sk-toggleable\"><label>rfc</label></div></div><div class=\"sk-serial\"><div class=\"sk-item\"><div class=\"sk-estimator sk-toggleable\"><input class=\"sk-toggleable__control sk-hidden--visually\" id=\"sk-estimator-id-27\" type=\"checkbox\" ><label for=\"sk-estimator-id-27\" class=\"sk-toggleable__label sk-toggleable__label-arrow\">RandomForestClassifier</label><div class=\"sk-toggleable__content\"><pre>RandomForestClassifier()</pre></div></div></div></div></div></div><div class=\"sk-parallel-item\"><div class=\"sk-item\"><div class=\"sk-label-container\"><div class=\"sk-label sk-toggleable\"><label>xgb</label></div></div><div class=\"sk-serial\"><div class=\"sk-item\"><div class=\"sk-estimator sk-toggleable\"><input class=\"sk-toggleable__control sk-hidden--visually\" id=\"sk-estimator-id-28\" type=\"checkbox\" ><label for=\"sk-estimator-id-28\" class=\"sk-toggleable__label sk-toggleable__label-arrow\">XGBClassifier</label><div class=\"sk-toggleable__content\"><pre>XGBClassifier(base_score=None, booster=None, callbacks=None,\n",
       "              colsample_bylevel=None, colsample_bynode=None,\n",
       "              colsample_bytree=None, early_stopping_rounds=None,\n",
       "              enable_categorical=False, eval_metric=None, feature_types=None,\n",
       "              gamma=None, gpu_id=None, grow_policy=None, importance_type=None,\n",
       "              interaction_constraints=None, learning_rate=None, max_bin=None,\n",
       "              max_cat_threshold=None, max_cat_to_onehot=None,\n",
       "              max_delta_step=None, max_depth=None, max_leaves=None,\n",
       "              min_child_weight=None, missing=nan, monotone_constraints=None,\n",
       "              n_estimators=100, n_jobs=None, num_parallel_tree=None,\n",
       "              predictor=None, random_state=None, ...)</pre></div></div></div></div></div></div><div class=\"sk-parallel-item\"><div class=\"sk-item\"><div class=\"sk-label-container\"><div class=\"sk-label sk-toggleable\"><label>ext</label></div></div><div class=\"sk-serial\"><div class=\"sk-item\"><div class=\"sk-estimator sk-toggleable\"><input class=\"sk-toggleable__control sk-hidden--visually\" id=\"sk-estimator-id-29\" type=\"checkbox\" ><label for=\"sk-estimator-id-29\" class=\"sk-toggleable__label sk-toggleable__label-arrow\">ExtraTreesClassifier</label><div class=\"sk-toggleable__content\"><pre>ExtraTreesClassifier()</pre></div></div></div></div></div></div></div></div><div class=\"sk-item\"><div class=\"sk-parallel\"><div class=\"sk-parallel-item\"><div class=\"sk-item\"><div class=\"sk-label-container\"><div class=\"sk-label sk-toggleable\"><label>final_estimator</label></div></div><div class=\"sk-serial\"><div class=\"sk-item\"><div class=\"sk-estimator sk-toggleable\"><input class=\"sk-toggleable__control sk-hidden--visually\" id=\"sk-estimator-id-30\" type=\"checkbox\" ><label for=\"sk-estimator-id-30\" class=\"sk-toggleable__label sk-toggleable__label-arrow\">LogisticRegression</label><div class=\"sk-toggleable__content\"><pre>LogisticRegression()</pre></div></div></div></div></div></div></div></div></div></div></div></div></div></div></div></div></div>"
      ],
      "text/plain": [
       "VotingClassifier(estimators=[('Random Forest',\n",
       "                              Pipeline(steps=[('standardscaler',\n",
       "                                               StandardScaler()),\n",
       "                                              ('randomforestclassifier',\n",
       "                                               RandomForestClassifier(bootstrap=False,\n",
       "                                                                      max_features='auto',\n",
       "                                                                      n_estimators=2500,\n",
       "                                                                      n_jobs=-1,\n",
       "                                                                      random_state=42))])),\n",
       "                             ('XGBoost',\n",
       "                              Pipeline(steps=[('standardscaler',\n",
       "                                               StandardScaler()),\n",
       "                                              ('xgbclassifier',\n",
       "                                               XGBClassifier(base_score=None,\n",
       "                                                             booster=N...\n",
       "                                                                            learning_rate=None,\n",
       "                                                                            max_bin=None,\n",
       "                                                                            max_cat_threshold=None,\n",
       "                                                                            max_cat_to_onehot=None,\n",
       "                                                                            max_delta_step=None,\n",
       "                                                                            max_depth=None,\n",
       "                                                                            max_leaves=None,\n",
       "                                                                            min_child_weight=None,\n",
       "                                                                            missing=nan,\n",
       "                                                                            monotone_constraints=None,\n",
       "                                                                            n_estimators=100,\n",
       "                                                                            n_jobs=None,\n",
       "                                                                            num_parallel_tree=None,\n",
       "                                                                            predictor=None,\n",
       "                                                                            random_state=None, ...)),\n",
       "                                                             ('ext',\n",
       "                                                              ExtraTreesClassifier())],\n",
       "                                                 final_estimator=LogisticRegression()))],\n",
       "                 voting='soft')"
      ]
     },
     "execution_count": 71,
     "metadata": {},
     "output_type": "execute_result"
    }
   ],
   "source": [
    "# Fit the ensemble\n",
    "ensemble.fit(X_train, y_train)"
   ]
  },
  {
   "cell_type": "code",
   "execution_count": 72,
   "id": "e0ea7195",
   "metadata": {},
   "outputs": [],
   "source": [
    "# Train the model\n",
    "y_pred_train = ensemble.predict(X_train)"
   ]
  },
  {
   "cell_type": "code",
   "execution_count": 73,
   "id": "fa7bfb29",
   "metadata": {},
   "outputs": [
    {
     "name": "stdout",
     "output_type": "stream",
     "text": [
      "[[34381     0]\n",
      " [    0 41122]]\n"
     ]
    }
   ],
   "source": [
    "# Evaluate model on training data\n",
    "print(confusion_matrix(y_train, y_pred_train))"
   ]
  },
  {
   "cell_type": "code",
   "execution_count": 74,
   "id": "22703e6a",
   "metadata": {
    "scrolled": true
   },
   "outputs": [
    {
     "data": {
      "image/png": "[encoded data removed]",
      "text/plain": [
       "<Figure size 200x200 with 2 Axes>"
      ]
     },
     "metadata": {},
     "output_type": "display_data"
    }
   ],
   "source": [
    "# Make predictions on validation data\n",
    "y_pred_val = ensemble.predict(X_val)\n",
    "cm = confusion_matrix(y_val, y_pred_val)\n",
    "#pretty plot\n",
    "plt.figure(figsize=(2,2))\n",
    "sns.heatmap(cm, annot=True, fmt='d', cmap='Blues')\n",
    "\n",
    "# Add labels (depends on your problem)\n",
    "plt.xlabel('Predicted')\n",
    "plt.ylabel('Actual')\n",
    "\n",
    "plt.show()"
   ]
  },
  {
   "cell_type": "code",
   "execution_count": 75,
   "id": "04639787",
   "metadata": {},
   "outputs": [
    {
     "name": "stdout",
     "output_type": "stream",
     "text": [
      "cm:\n",
      "[[ 8064   341]\n",
      " [  440 10031]]\n",
      "Accuracy:\t0.9586247\n",
      "Precision:\t0.9671230\n",
      "Recall:\t\t0.9579792\n",
      "F1_score:\t0.9625294\n",
      "\n",
      "Maybe Acc:\t0.9556247\n",
      "Target:\t\t0.9568002\n"
     ]
    }
   ],
   "source": [
    "[[TN,FP],[FN,TP]] = cm\n",
    "Accuracy = (TN + TP) / (TN + FP + FN + TP)\n",
    "Precision = TP / (TP + FP)\n",
    "Recall = TP / (TP + FN)\n",
    "F1_score = 2 * (Precision * Recall) / (Precision + Recall)\n",
    "maybe_acc = Accuracy - 0.003\n",
    "target = 0.9568002\n",
    "print(f\"cm:\\n{cm}\\nAccuracy:\\t{Accuracy:.7f}\\nPrecision:\\t{Precision:.7f}\\nRecall:\\t\\t{Recall:.7f}\\nF1_score:\\t{F1_score:.7f}\\n\\nMaybe Acc:\\t{maybe_acc:.7f}\\nTarget:\\t\\t{target:.7f}\")\n"
   ]
  },
  {
   "cell_type": "code",
   "execution_count": 76,
   "id": "b0d230e7",
   "metadata": {},
   "outputs": [
    {
     "data": {
      "text/plain": [
       "array([1., 1., 1., ..., 0., 1., 0.])"
      ]
     },
     "execution_count": 76,
     "metadata": {},
     "output_type": "execute_result"
    }
   ],
   "source": [
    "# Make prediction\n",
    "y_pred_test = ensemble.predict(test_data)\n",
    "y_pred_test"
   ]
  },
  {
   "cell_type": "code",
   "execution_count": 77,
   "id": "7a2e604e",
   "metadata": {
    "scrolled": true
   },
   "outputs": [
    {
     "name": "stdout",
     "output_type": "stream",
     "text": [
      "         ID  Overall_Experience\n",
      "0  99900001                   1\n",
      "1  99900002                   1\n",
      "2  99900003                   1\n",
      "3  99900004                   0\n",
      "4  99900005                   1\n"
     ]
    }
   ],
   "source": [
    "results_to_csv(y_pred_test, \"y_pred_test_voting_ensemble\")"
   ]
  },
  {
   "cell_type": "code",
   "execution_count": null,
   "id": "68979f14",
   "metadata": {},
   "outputs": [],
   "source": []
  }
 ],
 "metadata": {
  "kernelspec": {
   "display_name": "Python 3 (ipykernel)",
   "language": "python",
   "name": "python3"
  },
  "language_info": {
   "codemirror_mode": {
    "name": "ipython",
    "version": 3
   },
   "file_extension": ".py",
   "mimetype": "text/x-python",
   "name": "python",
   "nbconvert_exporter": "python",
   "pygments_lexer": "ipython3",
   "version": "3.11.3"
  }
 },
 "nbformat": 4,
 "nbformat_minor": 5
}
